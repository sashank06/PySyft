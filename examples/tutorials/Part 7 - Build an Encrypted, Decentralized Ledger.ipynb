{
 "cells": [
  {
   "cell_type": "markdown",
   "metadata": {},
   "source": [
    "# Part 7: Build an Encrypted, Decentralized Ledger\n",
    "\n",
    "In this section, we're going to add a slight extension to the key-value database we made in Part 6 and instead modify it to be a very performant decentralized ledger. \n",
    "\n",
    "At present, you put all of your money into a single bank account at a time. This bank always knows your balance and has the ability to send/receive money on your behalf (perhaps even without your permission!!). \n",
    "\n",
    "We're going to design a simple prototype of an (extremely performant) database in which your account is with MULTIPLE banks, but NONE of them can see your balance, and transactions can only occur if all banks work together (they would have to collude to spend on your behalf).\n",
    "\n",
    "Authors:\n",
    "- Andrew Trask - Twitter: [@iamtrask](https://twitter.com/iamtrask)"
   ]
  },
  {
   "cell_type": "markdown",
   "metadata": {},
   "source": [
    "# Step 1: A Simple Ledger\n",
    "\n",
    "Before we can attempt to build an encrypted, decentralized ledger, we must first build a simple, decrypted one. This is simple enough. We have a list of starting values, and each transaction changes those values."
   ]
  },
  {
   "cell_type": "code",
   "execution_count": 5,
   "metadata": {},
   "outputs": [],
   "source": [
    "import syft as sy"
   ]
  },
  {
   "cell_type": "code",
   "execution_count": 15,
   "metadata": {},
   "outputs": [],
   "source": [
    "num_accounts = 10\n",
    "\n",
    "transactions = list()\n",
    "\n",
    "initial_balances = sy.ones(num_accounts).long() * 100\n",
    "transactions.append(initial_balances)\n",
    "\n",
    "def transact(amt=10,frm=0,to=1):\n",
    "    record = sy.zeros(num_accounts).long()\n",
    "    record[frm] = -amt\n",
    "    record[to] = amt\n",
    "    transactions.append(record)\n",
    "    "
   ]
  },
  {
   "cell_type": "code",
   "execution_count": 16,
   "metadata": {},
   "outputs": [],
   "source": [
    "transact(5,0,1)"
   ]
  },
  {
   "cell_type": "code",
   "execution_count": 17,
   "metadata": {},
   "outputs": [
    {
     "data": {
      "text/plain": [
       "[\n",
       "  100\n",
       "  100\n",
       "  100\n",
       "  100\n",
       "  100\n",
       "  100\n",
       "  100\n",
       "  100\n",
       "  100\n",
       "  100\n",
       " [torch.LongTensor of size 10], \n",
       " -5\n",
       "  5\n",
       "  0\n",
       "  0\n",
       "  0\n",
       "  0\n",
       "  0\n",
       "  0\n",
       "  0\n",
       "  0\n",
       " [torch.LongTensor of size 10]]"
      ]
     },
     "execution_count": 17,
     "metadata": {},
     "output_type": "execute_result"
    }
   ],
   "source": [
    "transactions"
   ]
  },
  {
   "cell_type": "markdown",
   "metadata": {},
   "source": [
    "## Getting Your Balance\n",
    "\n",
    "And if you want to calculate the current balance for everyone, you just sum up all the records!"
   ]
  },
  {
   "cell_type": "code",
   "execution_count": 18,
   "metadata": {},
   "outputs": [],
   "source": [
    "balance = transactions[0]\n",
    "for t in transactions[1:]:\n",
    "    balance = balance + t"
   ]
  },
  {
   "cell_type": "code",
   "execution_count": 20,
   "metadata": {},
   "outputs": [
    {
     "data": {
      "text/plain": [
       "\n",
       "  95\n",
       " 105\n",
       " 100\n",
       " 100\n",
       " 100\n",
       " 100\n",
       " 100\n",
       " 100\n",
       " 100\n",
       " 100\n",
       "[torch.LongTensor of size 10]"
      ]
     },
     "execution_count": 20,
     "metadata": {},
     "output_type": "execute_result"
    }
   ],
   "source": [
    "balance"
   ]
  },
  {
   "cell_type": "markdown",
   "metadata": {},
   "source": [
    "### A Bit of Object Orientied Organization\n",
    "\n",
    "Now let's put these features into a proper class."
   ]
  },
  {
   "cell_type": "code",
   "execution_count": 44,
   "metadata": {},
   "outputs": [],
   "source": [
    "class SimpleLedger():\n",
    "\n",
    "    def __init__(self, num_accounts=10, starting_balance=100):\n",
    "        \n",
    "        self.transactions = list()\n",
    "        self.num_accounts = num_accounts\n",
    "        \n",
    "        initial_balances = sy.ones(num_accounts).long() * starting_balance\n",
    "        self.transactions.append(initial_balances)\n",
    "        \n",
    "    def transact(self, amt=10,frm=0,to=1):\n",
    "        record = sy.zeros(self.num_accounts).long()\n",
    "        record[frm] = -amt\n",
    "        record[to] = amt\n",
    "        self.transactions.append(record)\n",
    "        \n",
    "    def compute_balances(self):\n",
    "        balance = self.transactions[0]\n",
    "        for t in self.transactions[1:]:\n",
    "            balance = balance + t\n",
    "\n",
    "        return balance"
   ]
  },
  {
   "cell_type": "code",
   "execution_count": 45,
   "metadata": {},
   "outputs": [],
   "source": [
    "ledger = SimpleLedger()"
   ]
  },
  {
   "cell_type": "code",
   "execution_count": 46,
   "metadata": {},
   "outputs": [],
   "source": [
    "ledger.transact(10, 0, 1)"
   ]
  },
  {
   "cell_type": "code",
   "execution_count": 47,
   "metadata": {},
   "outputs": [
    {
     "data": {
      "text/plain": [
       "\n",
       "  90\n",
       " 110\n",
       " 100\n",
       " 100\n",
       " 100\n",
       " 100\n",
       " 100\n",
       " 100\n",
       " 100\n",
       " 100\n",
       "[torch.LongTensor of size 10]"
      ]
     },
     "execution_count": 47,
     "metadata": {},
     "output_type": "execute_result"
    }
   ],
   "source": [
    "ledger.compute_balances()"
   ]
  },
  {
   "cell_type": "markdown",
   "metadata": {},
   "source": [
    "# Step 2: Checking Balance Values\n",
    "\n",
    "So our ledger is great, but unfortunately we can transact negative money! We need to be able to deny transactions if the balance for them wasn't available. For this we need two things:\n",
    "\n",
    "- 1) maintain a running list of balances\n",
    "- 2) deny transactions which force balances to become negative"
   ]
  },
  {
   "cell_type": "code",
   "execution_count": 67,
   "metadata": {},
   "outputs": [],
   "source": [
    "class SimpleLedger():\n",
    "\n",
    "    def __init__(self, num_accounts=10, starting_balance=100):\n",
    "        \n",
    "        self.transactions = list()\n",
    "        self.num_accounts = num_accounts\n",
    "        \n",
    "        initial_balances = sy.ones(num_accounts).long() * starting_balance\n",
    "        self.transactions.append(initial_balances)\n",
    "        \n",
    "        self.running_balance = self.compute_balances()\n",
    "        \n",
    "    def transact(self, amt=10,frm=0,to=1):\n",
    "        record = sy.zeros(self.num_accounts).long()\n",
    "        record[frm] = -amt\n",
    "        record[to] = amt\n",
    "        \n",
    "        candidate_balance = self.running_balance + record\n",
    "        neg_check = 1 - (candidate_balance < 0).sum()\n",
    "        \n",
    "        record = record * neg_check\n",
    "        \n",
    "        self.transactions.append(record)\n",
    "        self.running_balance = self.running_balance + record\n",
    "        \n",
    "    def compute_balances(self):\n",
    "        balance = self.transactions[0]\n",
    "        for t in self.transactions[1:]:\n",
    "            balance = balance + t\n",
    "            \n",
    "        return balance"
   ]
  },
  {
   "cell_type": "code",
   "execution_count": 68,
   "metadata": {},
   "outputs": [],
   "source": [
    "ledger = SimpleLedger()"
   ]
  },
  {
   "cell_type": "code",
   "execution_count": 69,
   "metadata": {},
   "outputs": [
    {
     "data": {
      "text/plain": [
       "\n",
       "   0\n",
       " 200\n",
       " 100\n",
       " 100\n",
       " 100\n",
       " 100\n",
       " 100\n",
       " 100\n",
       " 100\n",
       " 100\n",
       "[syft.core.frameworks.torch.tensor.LongTensor of size 10]"
      ]
     },
     "execution_count": 69,
     "metadata": {},
     "output_type": "execute_result"
    }
   ],
   "source": [
    "# valid transactions work fine\n",
    "ledger.transact(100, 0, 1)\n",
    "ledger.compute_balances()"
   ]
  },
  {
   "cell_type": "code",
   "execution_count": 70,
   "metadata": {},
   "outputs": [
    {
     "data": {
      "text/plain": [
       "\n",
       "   0\n",
       " 200\n",
       " 100\n",
       " 100\n",
       " 100\n",
       " 100\n",
       " 100\n",
       " 100\n",
       " 100\n",
       " 100\n",
       "[syft.core.frameworks.torch.tensor.LongTensor of size 10]"
      ]
     },
     "execution_count": 70,
     "metadata": {},
     "output_type": "execute_result"
    }
   ],
   "source": [
    "# invalid transactions don't run!\n",
    "ledger.transact(100, 0, 1)\n",
    "ledger.compute_balances()"
   ]
  },
  {
   "cell_type": "markdown",
   "metadata": {},
   "source": [
    "# Step 3: Encrypting / Decentralizing the Ledger\n",
    "\n",
    "And now all we need to do is SMPC share all of the tensors involved and we have an encrypted, decentralized ledger!"
   ]
  },
  {
   "cell_type": "code",
   "execution_count": 107,
   "metadata": {},
   "outputs": [],
   "source": [
    "class DecentralizedLedger():\n",
    "\n",
    "    def __init__(self, *owners, num_accounts=10, starting_balance=100):\n",
    "        \n",
    "        self.transactions = list()\n",
    "        self.owners = owners\n",
    "        self.num_accounts = num_accounts\n",
    "        \n",
    "        initial_balances = sy.ones(num_accounts).long() * starting_balance\n",
    "        initial_balances = initial_balances.share(*self.owners)\n",
    "        self.transactions.append(initial_balances)\n",
    "        \n",
    "        # cache zeros for use in comparison\n",
    "        self.zeros = initial_balances - initial_balances\n",
    "        \n",
    "        self.running_balance = self.compute_balances()\n",
    "        \n",
    "    def transact(self, amt=10,frm=0,to=1):\n",
    "        record = sy.zeros(self.num_accounts).long()\n",
    "        record[frm] = -amt\n",
    "        record[to] = amt\n",
    "        \n",
    "        record = record.share(*self.owners)\n",
    "        \n",
    "        candidate_balance = self.running_balance + record\n",
    "        neg_check = 1 - (candidate_balance < self.zeros).sum(0).expand(self.num_accounts)\n",
    "        \n",
    "        record = record * neg_check\n",
    "        \n",
    "        self.transactions.append(record)\n",
    "        self.running_balance = self.running_balance + record\n",
    "        \n",
    "    def compute_balances(self):\n",
    "        balance = self.transactions[0]\n",
    "        for t in self.transactions[1:]:\n",
    "            balance = balance + t\n",
    "            \n",
    "        return balance"
   ]
  },
  {
   "cell_type": "code",
   "execution_count": 110,
   "metadata": {},
   "outputs": [
    {
     "name": "stderr",
     "output_type": "stream",
     "text": [
      "WARNING:root:Torch was already hooked... skipping hooking process\n"
     ]
    },
    {
     "data": {
      "text/plain": [
       "\n",
       "   0\n",
       " 200\n",
       " 100\n",
       " 100\n",
       " 100\n",
       " 100\n",
       " 100\n",
       " 100\n",
       " 100\n",
       " 100\n",
       "[syft.core.frameworks.torch.tensor.LongTensor of size 10]"
      ]
     },
     "execution_count": 110,
     "metadata": {},
     "output_type": "execute_result"
    }
   ],
   "source": [
    "import syft as sy\n",
    "hook = sy.TorchHook()\n",
    "\n",
    "jp_norgan = sy.VirtualWorker(id=\"jp_norgan\")\n",
    "ubz = sy.VirtualWorker(id=\"ubz\")\n",
    "\n",
    "ledger = DecentralizedLedger(jp_norgan, ubz)\n",
    "\n",
    "# valid transactions work fine\n",
    "ledger.transact(100, 0, 1)\n",
    "ledger.compute_balances().get()"
   ]
  },
  {
   "cell_type": "code",
   "execution_count": 111,
   "metadata": {},
   "outputs": [
    {
     "data": {
      "text/plain": [
       "\n",
       "   0\n",
       " 200\n",
       " 100\n",
       " 100\n",
       " 100\n",
       " 100\n",
       " 100\n",
       " 100\n",
       " 100\n",
       " 100\n",
       "[syft.core.frameworks.torch.tensor.LongTensor of size 10]"
      ]
     },
     "execution_count": 111,
     "metadata": {},
     "output_type": "execute_result"
    }
   ],
   "source": [
    "# spending too much from an account will cancel the transaction\n",
    "ledger.transact(100, 0, 1)\n",
    "ledger.compute_balances().get()"
   ]
  },
  {
   "cell_type": "markdown",
   "metadata": {},
   "source": [
    "# Success!!\n",
    "\n",
    "And there you have it, we now have created a banking system hosted by two banks JP Norgan and UBZ. However, neither JP Norgan or UBZ can see anyone's balances OR unilaterally transact. However, they can still check to ensure that transactions are valid (only spending money which is actually in people's accounts)."
   ]
  },
  {
   "cell_type": "markdown",
   "metadata": {},
   "source": [
    "# Congratulations!!! - Time to Join the Community!\n",
    "\n",
    "Congraulations on completing this notebook tutorial! If you enjoyed this and would like to join the movement toward privacy preserving, decentralized ownership of AI and the AI supply chain (data), you can do so in the following ways!\n",
    "\n",
    "### Star PySyft on Github\n",
    "\n",
    "The easiest way to help our community is just by starring the Repos! This helps raise awareness of the cool tools we're building.\n",
    "\n",
    "- [Star PySyft](https://github.com/OpenMined/PySyft)\n",
    "\n",
    "### Join our Slack!\n",
    "\n",
    "The best way to keep up to date on the latest advancements is to join our community! You can do so by filling out the form at [http://slack.openmined.org](http://slack.openmined.org)\n",
    "\n",
    "### Join a Code Project!\n",
    "\n",
    "The best way to contribute to our community is to become a code contributor! At any time you can go to PySyft Github Issues page and filter for \"Projects\". This will show you all the top level Tickets giving an overview of what projects you can join! If you don't want to join a project, but you would like to do a bit of coding, you can also look for more \"one off\" mini-projects by searching for github issues marked \"good first issue\".\n",
    "\n",
    "- [PySyft Projects](https://github.com/OpenMined/PySyft/issues?q=is%3Aopen+is%3Aissue+label%3AProject)\n",
    "- [Good First Issue Tickets](https://github.com/OpenMined/PySyft/issues?q=is%3Aopen+is%3Aissue+label%3A%22good+first+issue%22)\n",
    "\n",
    "### Donate\n",
    "\n",
    "If you don't have time to contribute to our codebase, but would still like to lend support, you can also become a Backer on our Open Collective. All donations go toward our web hosting and other community expenses such as hackathons and meetups!\n",
    "\n",
    "[OpenMined's Open Collective Page](https://opencollective.com/openmined)"
   ]
  },
  {
   "cell_type": "code",
   "execution_count": null,
   "metadata": {},
   "outputs": [],
   "source": []
  }
 ],
 "metadata": {
  "kernelspec": {
   "display_name": "Python 3",
   "language": "python",
   "name": "python3"
  },
  "language_info": {
   "codemirror_mode": {
    "name": "ipython",
    "version": 3
   },
   "file_extension": ".py",
   "mimetype": "text/x-python",
   "name": "python",
   "nbconvert_exporter": "python",
   "pygments_lexer": "ipython3",
   "version": "3.6.1"
  }
 },
 "nbformat": 4,
 "nbformat_minor": 2
}
